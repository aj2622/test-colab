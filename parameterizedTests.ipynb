{
  "nbformat": 4,
  "nbformat_minor": 0,
  "metadata": {
    "colab": {
      "name": "parameterizedTests.ipynb",
      "provenance": [],
      "collapsed_sections": [],
      "authorship_tag": "ABX9TyMbJlSq+4z+xmzzu8O2V6ty",
      "include_colab_link": true
    },
    "kernelspec": {
      "name": "python3",
      "display_name": "Python 3"
    },
    "language_info": {
      "name": "python"
    }
  },
  "cells": [
    {
      "cell_type": "markdown",
      "metadata": {
        "id": "view-in-github",
        "colab_type": "text"
      },
      "source": [
        "<a href=\"https://colab.research.google.com/github/aj2622/test-colab/blob/main/parameterizedTests.ipynb\" target=\"_parent\"><img src=\"https://colab.research.google.com/assets/colab-badge.svg\" alt=\"Open In Colab\"/></a>"
      ]
    },
    {
      "cell_type": "code",
      "execution_count": 1,
      "metadata": {
        "id": "C2GxRi0z9XzI"
      },
      "outputs": [],
      "source": [
        "def calc_tax(amount, tax_rate, age):\n",
        "    \"\"\"The function returns the amount of income tax.\"\"\"\n",
        "\n",
        "    if not isinstance(amount, (int, float)):\n",
        "        raise TypeError('The amount value must be int or float type.')\n",
        "    if not amount >= 0:\n",
        "        raise ValueError('The amount value must be positive.')\n",
        "\n",
        "    if not isinstance(tax_rate, float):\n",
        "        raise TypeError('The tax_rate must be float.')\n",
        "    if not 0 < tax_rate < 1:\n",
        "        raise ValueError('The tax_rate must be between 0 and 1 (exclusive).')\n",
        "\n",
        "    if not isinstance(age, int):\n",
        "        raise TypeError('The age value must be int.')\n",
        "    if not age > 0:\n",
        "        raise ValueError('The age value must be positive.')\n",
        "\n",
        "    if age <= 18:\n",
        "        return int(min(amount * tax_rate, 5000))\n",
        "    elif age <= 65:\n",
        "        return int(amount * tax_rate)\n",
        "    else:\n",
        "        return int(min(amount * tax_rate, 8000))"
      ]
    },
    {
      "cell_type": "code",
      "source": [
        "import unittest\n",
        "# from tax import calc_tax\n",
        " \n",
        " \n",
        "class TestCalcTax(unittest.TestCase):\n",
        " \n",
        "    def test_calc_tax_twenty_percent_and_eighteen_age(self):\n",
        "        self.assertEqual(calc_tax(60000, 0.2, 18), 5000)\n",
        " \n",
        "    def test_calc_tax_twenty_percent_and_nineteen_age(self):\n",
        "        self.assertEqual(calc_tax(60000, 0.2, 19), 12000)\n",
        " \n",
        "    def test_calc_tax_twenty_percent_and_sixty_five_age(self):\n",
        "        self.assertEqual(calc_tax(60000, 0.2, 65), 12000)\n",
        " \n",
        "    def test_calc_tax_twenty_percent_and_sixty_six_age(self):\n",
        "        self.assertEqual(calc_tax(60000, 0.2, 66), 8000)"
      ],
      "metadata": {
        "id": "BdQD_1C3-Mxm"
      },
      "execution_count": 2,
      "outputs": []
    },
    {
      "cell_type": "code",
      "source": [
        "class TestCalcTax(unittest.TestCase):\n",
        "\n",
        "    def setUp(self):\n",
        "        self.cases = [\n",
        "                      (60000, 0.2, 18, 5000),\n",
        "                      (60000, 0.2, 19, 12000),\n",
        "                      (60000, 0.2, 65, 12000),\n",
        "                      (60000, 0.2, 66, 8000)\n",
        "                        ]\n",
        "        self.calc_tax = calc_tax\n",
        "\n",
        "    def test_calc_tax(self):\n",
        "        for amount, tax_rate, age, result in self.cases:\n",
        "            with self.subTest(cases=self.cases):\n",
        "                self.assertEqual(self.calc_tax(amount, tax_rate, age), result)"
      ],
      "metadata": {
        "id": "O0SeWl2T-Qt0"
      },
      "execution_count": 3,
      "outputs": []
    },
    {
      "cell_type": "code",
      "source": [
        "def area(width, height):\n",
        "    \"\"\"The function returns the area of the rectangle.\"\"\"\n",
        "\n",
        "    if not (isinstance(width, (int, float)) and\n",
        "            isinstance(height, (int, float))):\n",
        "        raise TypeError('The width and height must be of type int or float.')\n",
        "\n",
        "    if not (width > 0 and height > 0):\n",
        "        raise ValueError('The width and height must be positive.')\n",
        "\n",
        "    return width * height\n",
        "\n",
        "def perimeter(width, height):\n",
        "    \"\"\"The function returns the perimeter of the rectangle.\"\"\"\n",
        "\n",
        "    if not (isinstance(width, (int, float)) and\n",
        "            isinstance(height, (int, float))):\n",
        "        raise TypeError('The width and height must be of type int or float.')\n",
        "\n",
        "    if not (width > 0 and height > 0):\n",
        "        raise ValueError('The width and height must be positive.')\n",
        "\n",
        "    return 2 * width + 2 * height\n"
      ],
      "metadata": {
        "id": "YFvHoJm2MLQa"
      },
      "execution_count": 5,
      "outputs": []
    },
    {
      "cell_type": "code",
      "source": [
        "class TestArea(unittest.TestCase):\n",
        "\n",
        "    def test_area(self):\n",
        "        cases = [\n",
        "            (1, 5, 5),\n",
        "            (2, 10, 20),\n",
        "            (100, 50, 5000)\n",
        "        ]\n",
        "        for a, b, ar in cases:\n",
        "            with self.subTest(cases=cases):\n",
        "                self.assertEqual(area(a, b), ar)\n",
        "    \n",
        "    def test_area_incorrect_type_should_raise_type_error(self):\n",
        "        cases = [\n",
        "            (1, '5', TypeError),\n",
        "            ('2', 10, TypeError),\n",
        "            ('two', 'four', TypeError)\n",
        "        ]\n",
        "        for width, height, result in cases:\n",
        "            with self.subTest(cases=cases):\n",
        "                self.assertRaises(result, area, width, height)"
      ],
      "metadata": {
        "id": "aq1bH7wgA7oV"
      },
      "execution_count": 6,
      "outputs": []
    },
    {
      "cell_type": "code",
      "source": [
        "class TestPerimeter(unittest.TestCase):\n",
        "    def test_perimeter(self):\n",
        "        cases = [\n",
        "            (1, 5, 12),\n",
        "            (2, 10, 24),\n",
        "            (100, 50, 300)\n",
        "        ]\n",
        "        for width, height, result in cases:\n",
        "            with self.subTest(cases=cases):\n",
        "                self.assertEqual(perimeter(width, height), result)\n",
        "    \n",
        "    def test_perimeter_incorrect_type_should_raise_type_error(self):\n",
        "        cases = [\n",
        "            (4,'5'),\n",
        "            ('2', 8),\n",
        "            ('two', 'three')\n",
        "        ]\n",
        "        for width, height in cases:\n",
        "            with self.subTest(cases=cases):\n",
        "                self.assertRaises(TypeError, perimeter, width, height)\n",
        "\n",
        "    def test_perimeter_incorrect_value_should_raise_value_error(self):\n",
        "        cases = [\n",
        "            (-40, 5),\n",
        "            (4, -10),\n",
        "            (0, 0)\n",
        "        ]\n",
        "        for width, height in cases:\n",
        "            with self.subTest(cases=cases):\n",
        "                self.assertRaises(ValueError, perimeter, height, width)"
      ],
      "metadata": {
        "id": "qcggysTBDpwI"
      },
      "execution_count": 4,
      "outputs": []
    },
    {
      "cell_type": "code",
      "source": [
        ""
      ],
      "metadata": {
        "id": "hnk5FTnGA7Bb"
      },
      "execution_count": null,
      "outputs": []
    },
    {
      "cell_type": "code",
      "source": [
        ""
      ],
      "metadata": {
        "id": "JjI0OL8eMGr2"
      },
      "execution_count": null,
      "outputs": []
    }
  ]
}