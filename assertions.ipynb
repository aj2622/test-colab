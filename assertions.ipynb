{
  "nbformat": 4,
  "nbformat_minor": 0,
  "metadata": {
    "colab": {
      "name": "assertions.ipynb",
      "provenance": [],
      "collapsed_sections": [],
      "authorship_tag": "ABX9TyN4iSIdcuZcRqGvNNgDrYEl",
      "include_colab_link": true
    },
    "kernelspec": {
      "name": "python3",
      "display_name": "Python 3"
    },
    "language_info": {
      "name": "python"
    }
  },
  "cells": [
    {
      "cell_type": "markdown",
      "metadata": {
        "id": "view-in-github",
        "colab_type": "text"
      },
      "source": [
        "<a href=\"https://colab.research.google.com/github/aj2622/test-colab/blob/main/assertions.ipynb\" target=\"_parent\"><img src=\"https://colab.research.google.com/assets/colab-badge.svg\" alt=\"Open In Colab\"/></a>"
      ]
    },
    {
      "cell_type": "code",
      "execution_count": 1,
      "metadata": {
        "id": "xd6Qi4nwHQR2"
      },
      "outputs": [],
      "source": [
        "import unittest\n",
        "\n",
        "\n",
        "def calculate_daily_return(open, close):\n",
        "    return round((close / open - 1) * 100, 2)\n",
        "\n",
        "# enter your solution here\n",
        "\n",
        "class TestCalculateDailyReturn(unittest.TestCase):\n",
        "    \n",
        "    def test_positive_return(self):\n",
        "        self.assertEqual(calculate_daily_return(349.0, 360.0), 3.15)\n",
        "    \n",
        "    def test_negative_return(self):\n",
        "        self.assertEqual(calculate_daily_return(349.0, 340.0), -2.58)\n",
        "\n",
        "    def test_zero_return(self):\n",
        "        self.assertEqual(calculate_daily_return(349.0, 349.0), 0.0)"
      ]
    },
    {
      "cell_type": "code",
      "source": [
        "import unittest\n",
        "\n",
        "\n",
        "def calculate_daily_return(open, close):\n",
        "    return (close / open - 1) * 100\n",
        "\n",
        "# enter your solution here\n",
        "\n",
        "class TestCalculateDailyReturn(unittest.TestCase):\n",
        "    \n",
        "    def test_positive_return(self):\n",
        "        self.assertAlmostEqual(calculate_daily_return(349.0, 360.0), 3.1518625)\n",
        "\n",
        "    def test_negative_return(self):\n",
        "        self.assertAlmostEqual(calculate_daily_return(349.0, 340.0), -2.5787966)\n",
        "\n",
        "    def test_zero_return(self):\n",
        "        self.assertAlmostEqual(calculate_daily_return(349.0, 349.0), 0.0)"
      ],
      "metadata": {
        "id": "qz-pBplbJbOc"
      },
      "execution_count": 2,
      "outputs": []
    },
    {
      "cell_type": "code",
      "source": [
        "import unittest\n",
        "\n",
        "\n",
        "class Doc:\n",
        "\n",
        "    def __init__(self, string):\n",
        "        self.string = string\n",
        "        \n",
        "    def __repr__(self):\n",
        "        return f\"Doc(string='{self.string}')\"\n",
        "\n",
        "    def __lt__(self, other):\n",
        "        return len(self.string) < len(other.string)\n",
        "\n",
        "# enter your solution here\n",
        "\n",
        "class TestDoc(unittest.TestCase):\n",
        "\n",
        "    def test_less_than(self):\n",
        "        doc1 = Doc('Technology')\n",
        "        doc2 = Doc('Online')\n",
        "        doc3 = Doc('Nature')\n",
        "        self.assertLess(doc2, doc1)\n",
        "        self.assertLess(doc3, doc1)\n",
        "    \n",
        "    def test_greater_than(self):\n",
        "        doc1 = Doc('Technology')\n",
        "        doc2 = Doc('Online')\n",
        "        doc3 = Doc('Nature')\n",
        "        self.assertGreater(doc1, doc2)\n",
        "        self.assertGreater(doc1, doc3)"
      ],
      "metadata": {
        "id": "7uaS12ByMfqW"
      },
      "execution_count": 3,
      "outputs": []
    },
    {
      "cell_type": "code",
      "source": [
        "import unittest\n",
        "\n",
        "\n",
        "class Doc:\n",
        "\n",
        "    def __init__(self, string):\n",
        "        self.string = string\n",
        "\n",
        "    def __repr__(self):\n",
        "        return f\"Doc(string='{self.string}')\"\n",
        "\n",
        "    def __eq__(self, other):\n",
        "        return len(self.string) == len(other.string)\n",
        "\n",
        "# enter your solution here\n",
        "\n",
        "class TestDoc(unittest.TestCase):\n",
        "    \n",
        "    def test_equal(self):\n",
        "        doc3 = Doc('Technology')\n",
        "        doc1 = Doc('Online')\n",
        "        doc2 = Doc('Nature')\n",
        "        self.assertEqual(doc1, doc2)\n",
        "    \n",
        "    def test_not_equal(self):\n",
        "        doc3 = Doc('Technology')\n",
        "        doc1 = Doc('Online')\n",
        "        doc2 = Doc('Nature')\n",
        "        self.assertNotEqual(doc3, doc1)\n",
        "        self.assertNotEqual(doc3, doc2)\n"
      ],
      "metadata": {
        "id": "P7G-Uk53SNWb"
      },
      "execution_count": 4,
      "outputs": []
    },
    {
      "cell_type": "code",
      "source": [
        "import unittest\n",
        "\n",
        "\n",
        "class Employee:\n",
        "    \"\"\"A simple class that describes an employee of the company.\"\"\"\n",
        "\n",
        "    tax_rate = 0.17\n",
        "    bonus_rate = 0.10\n",
        "\n",
        "    def __init__(self, first_name, last_name, salary):\n",
        "        self.first_name = first_name\n",
        "        self.last_name = last_name\n",
        "        self.salary = salary\n",
        "\n",
        "    def __str__(self):\n",
        "        return f'{self.first_name} {self.last_name}'\n",
        "\n",
        "    @property\n",
        "    def email(self):\n",
        "        return f'{self.first_name.lower()}.{self.last_name.lower()}@mail.com'\n",
        "\n",
        "    @property\n",
        "    def tax(self):\n",
        "        return round(self.salary * self.tax_rate, 2)\n",
        "\n",
        "    def apply_bonus(self):\n",
        "        self.salary = int(self.salary * (1 + self.bonus_rate))\n",
        "\n",
        "# enter your solution here\n",
        "\n",
        "class TestEmployee(unittest.TestCase):\n",
        "\n",
        "    def test_has_email_attr(self):\n",
        "        AJ = Employee('A','J',1000000)\n",
        "        self.assertTrue(hasattr(AJ, 'email'), f'The Employee class does not have an email attribute')\n",
        "    \n",
        "    def test_has_tax_attr(self):\n",
        "        AJ = Employee('A','J',1000000)\n",
        "        self.assertTrue(hasattr(AJ, 'tax'), f'The Employee class does not have an tax attribute')\n",
        "    \n",
        "    def test_has_apply_bonus(self):\n",
        "        AJ = Employee('A','J',1000000)\n",
        "        self.assertTrue(hasattr(AJ, 'apply_bonus'), f'The Employee class does not have an apply_bonus attribute')\n"
      ],
      "metadata": {
        "id": "_cnB0sqFTKKH"
      },
      "execution_count": 16,
      "outputs": []
    },
    {
      "cell_type": "code",
      "source": [
        "import unittest\n",
        "\n",
        "\n",
        "class Employee:\n",
        "    \"\"\"A simple class that describes an employee of the company.\"\"\"\n",
        "\n",
        "    tax_rate = 0.17\n",
        "    bonus_rate = 0.10\n",
        "\n",
        "    def __init__(self, first_name, last_name, salary):\n",
        "        self.first_name = first_name\n",
        "        self.last_name = last_name\n",
        "        self.salary = salary\n",
        "\n",
        "    def __str__(self):\n",
        "        return f'{self.first_name} {self.last_name}'\n",
        "\n",
        "    @property\n",
        "    def email(self):\n",
        "        return f'{self.first_name.lower()}.{self.last_name.lower()}@mail.com'\n",
        "\n",
        "    @property\n",
        "    def tax(self):\n",
        "        return round(self.salary * self.tax_rate, 2)\n",
        "\n",
        "    def apply_bonus(self):\n",
        "        self.salary = int(self.salary * (1 + self.bonus_rate))\n",
        "\n",
        "\n",
        "# enter your solution here\n",
        "\n",
        "class TestEmployee(unittest.TestCase):\n",
        "\n",
        "    def test_has_email_attr(self):\n",
        "        AJ = Employee('A','J',1000000)\n",
        "        self.assertTrue(hasattr(AJ, 'email'), f'The Employee class does not have an email attribute')\n",
        "    \n",
        "    def test_has_email_property(self):\n",
        "        self.assertIsInstance(Employee.email, property)"
      ],
      "metadata": {
        "id": "kKwCZ10fWev9"
      },
      "execution_count": 1,
      "outputs": []
    },
    {
      "cell_type": "code",
      "source": [
        "import unittest\n",
        "\n",
        "\n",
        "class StringListOnly(list):\n",
        "\n",
        "    def append(self, string):\n",
        "        if not isinstance(string, str):\n",
        "            raise TypeError('Only object of type str can be added to the list.')\n",
        "        super().append(string)\n",
        "\n",
        "\n",
        "# enter your solution here\n",
        "\n",
        "class TestStringListOnly(unittest.TestCase):\n",
        "\n",
        "    def test_append_string(self):\n",
        "        string_ = 'a'\n",
        "        list_ = StringListOnly(['b', 'c', 'd'])\n",
        "        list_.append(string_)\n",
        "        self.assertIn(string_, list_)\n",
        "\n",
        "    def test_append_not_string_should_raise_error(self):\n",
        "        list1 = ['a']\n",
        "        list_ = ['b', 'c', 'd']\n",
        "        bool_ = True\n",
        "        self.assertRaises(TypeError, list_.append, list1)\n",
        "        self.assertRaises(TypeError, list_.append, bool_)"
      ],
      "metadata": {
        "id": "3yXp4tAMWhKH"
      },
      "execution_count": 2,
      "outputs": []
    },
    {
      "cell_type": "code",
      "source": [
        "import unittest\n",
        "\n",
        "\n",
        "class StringListOnly(list):\n",
        "\n",
        "    def append(self, string):\n",
        "        if not isinstance(string, str):\n",
        "            raise TypeError('Only object of type str can be added to the list.')\n",
        "        super().append(string)\n",
        "\n",
        "\n",
        "# enter your solution here\n",
        "\n",
        "class TestStringListOnly(unittest.TestCase):\n",
        "\n",
        "    def test_slo_is_instance(self):\n",
        "        slo = StringListOnly()\n",
        "        self.assertIsInstance(slo, StringListOnly)\n",
        "        self.assertIsInstance(slo, list)"
      ],
      "metadata": {
        "id": "GvW1AFbLd9yZ"
      },
      "execution_count": 5,
      "outputs": []
    },
    {
      "cell_type": "code",
      "source": [
        ""
      ],
      "metadata": {
        "id": "L3YgnQXNckF6"
      },
      "execution_count": null,
      "outputs": []
    }
  ]
}