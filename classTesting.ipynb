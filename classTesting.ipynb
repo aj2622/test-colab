{
  "nbformat": 4,
  "nbformat_minor": 0,
  "metadata": {
    "colab": {
      "name": "classTesting.ipynb",
      "provenance": [],
      "collapsed_sections": [],
      "authorship_tag": "ABX9TyPOu9DKYzV5rEOXUtHR9Uj0",
      "include_colab_link": true
    },
    "kernelspec": {
      "name": "python3",
      "display_name": "Python 3"
    },
    "language_info": {
      "name": "python"
    }
  },
  "cells": [
    {
      "cell_type": "markdown",
      "metadata": {
        "id": "view-in-github",
        "colab_type": "text"
      },
      "source": [
        "<a href=\"https://colab.research.google.com/github/aj2622/test-colab/blob/main/classTesting.ipynb\" target=\"_parent\"><img src=\"https://colab.research.google.com/assets/colab-badge.svg\" alt=\"Open In Colab\"/></a>"
      ]
    },
    {
      "cell_type": "code",
      "source": [
        "class SimpleTaxCalculator:\n",
        "\n",
        "    def income_tax(self, income, first_thresh=17.0, second_thresh=32.0):\n",
        "        first_rate = first_thresh / 100.0\n",
        "        second_rate = second_thresh / 100.0\n",
        "        threshold = 85528\n",
        "        if income < threshold:\n",
        "            return income * first_rate\n",
        "        else:\n",
        "            return threshold * first_rate + (income - threshold) * second_rate\n",
        "\n",
        "    def vat_tax(self, net_price, tax=23.0):\n",
        "        tax_rate = tax / 100.0\n",
        "        return net_price * tax_rate\n",
        "\n",
        "    def capital_gains_tax(self, profit, tax=19.0):\n",
        "        tax_rate = tax / 100.0\n",
        "        if profit > 0:\n",
        "            return profit * tax_rate\n",
        "        return 0"
      ],
      "metadata": {
        "id": "hjC2a1lanuDT"
      },
      "execution_count": 1,
      "outputs": []
    },
    {
      "cell_type": "code",
      "execution_count": 2,
      "metadata": {
        "id": "ihMG5teZmCI-"
      },
      "outputs": [],
      "source": [
        "import unittest\n",
        "# from tax import SimpleTaxCalculator\n",
        "\n",
        "class TestIncomeTax(unittest.TestCase):\n",
        "\n",
        "    @classmethod\n",
        "    def setUpClass(cls):\n",
        "        cls.calc = SimpleTaxCalculator()\n",
        "\n",
        "    def test_income_below_threshold(self):\n",
        "        self.assertEqual(self.calc.income_tax(60000), 10200)\n",
        "\n",
        "    def test_income_equal_threshold(self):\n",
        "        self.assertEqual(self.calc.income_tax(85528), 14539.76)\n",
        "\n",
        "    def test_income_above_threshold(self):\n",
        "        self.assertEqual(self.calc.income_tax(100000), 19170.8)"
      ]
    },
    {
      "cell_type": "code",
      "source": [
        "class TestVatTax(unittest.TestCase):\n",
        "\n",
        "    @classmethod\n",
        "    def setUpClass(cls):\n",
        "        cls.calc = SimpleTaxCalculator()\n",
        "\n",
        "    def test_vat_tax_with_default(self):\n",
        "        self.assertEqual(self.calc.vat_tax(100), 23.0)\n",
        "    \n",
        "    def test_vat_tax_with_twenty_tax_rate(self):\n",
        "        self.assertEqual(self.calc.vat_tax(100, 20.0), 20.0)"
      ],
      "metadata": {
        "id": "lngv_Dz2ud0y"
      },
      "execution_count": 3,
      "outputs": []
    },
    {
      "cell_type": "code",
      "source": [
        "class TestCapitalGainsTax(unittest.TestCase):\n",
        " \n",
        "    @classmethod\n",
        "    def setUpClass(cls):\n",
        "        cls.calc = SimpleTaxCalculator()\n",
        " \n",
        "    def test_positive_profit(self):\n",
        "        self.assertEqual(self.calc.capital_gains_tax(1000), 190.0)\n",
        " \n",
        "    def test_zero_profit(self):\n",
        "        self.assertEqual(self.calc.capital_gains_tax(0), 0.0)\n",
        " \n",
        "    def test_negative_profit(self):\n",
        "        self.assertEqual(self.calc.capital_gains_tax(-1000), 0.0)"
      ],
      "metadata": {
        "id": "aZfFzwH3vz5v"
      },
      "execution_count": 4,
      "outputs": []
    },
    {
      "cell_type": "code",
      "source": [
        "def setUpModule():\n",
        "    calc = SimpleTaxCalculator()"
      ],
      "metadata": {
        "id": "rmuUfsnvv0Ux"
      },
      "execution_count": 6,
      "outputs": []
    },
    {
      "cell_type": "code",
      "source": [
        "class Employee:\n",
        "    \"\"\"A simple class that describes an employee of the company.\"\"\"\n",
        "\n",
        "    tax_rate = 0.17\n",
        "\n",
        "    def __init__(self, first_name, last_name, age, salary):\n",
        "        self.first_name = first_name\n",
        "        self.last_name = last_name\n",
        "        self.age = age\n",
        "        self.salary = salary\n",
        "\n",
        "    @property\n",
        "    def email(self):\n",
        "        return f'{self.first_name.lower()}.{self.last_name.lower()}@mail.com'\n",
        "\n",
        "    @property\n",
        "    def tax(self):\n",
        "        return round(self.salary * self.tax_rate, 2)\n",
        "    \n",
        "    def apply_bonus(self):\n",
        "        self.salary = int(self.salary * (1 + self.bonus_rate))"
      ],
      "metadata": {
        "id": "pUFtuap4w5J9"
      },
      "execution_count": 5,
      "outputs": []
    },
    {
      "cell_type": "code",
      "source": [
        "class TestEmployee(unittest.TestCase):\n",
        "\n",
        "    @classmethod\n",
        "    def setUp(cls):\n",
        "        cls.emp = Employee('John', 'Smith', 40, 80000)\n",
        "        \n",
        "    def test_email(self):\n",
        "        self.assertEqual(self.emp.email, 'john.smith@mail.com')\n",
        "    \n",
        "    def test_email_after_changing_first_name(self):\n",
        "        self.emp.first_name = 'Mike'\n",
        "        self.assertEqual(self.emp.email, 'mike.smith@mail.com')\n",
        "\n",
        "    def test_email_after_changing_last_name(self):\n",
        "        self.emp.last_name = 'Doe'\n",
        "        self.assertEqual(self.emp.email, 'john.doe@mail.com')"
      ],
      "metadata": {
        "id": "LpfaEJ5Ww5zv"
      },
      "execution_count": 7,
      "outputs": []
    },
    {
      "cell_type": "code",
      "source": [
        "import datetime\n",
        "\n",
        "class Note:\n",
        "\n",
        "    def __init__(self, content):\n",
        "        self.content = content\n",
        "        self.creation_time = datetime.datetime.now() \\\n",
        "            .strftime('%m-%d-%Y %H:%M:%S')\n",
        "\n",
        "class Notebook:\n",
        "\n",
        "    def __init__(self):\n",
        "        self.notes = []\n",
        "\n",
        "    def new_note(self, content):\n",
        "        self.notes.append(Note(content))\n",
        "\n",
        "    def search(self, value):\n",
        "        return [note.content for note in self.notes if note.find(value)]"
      ],
      "metadata": {
        "id": "T9KO9ck-yu1K"
      },
      "execution_count": 11,
      "outputs": []
    },
    {
      "cell_type": "code",
      "source": [
        "import uuid\n",
        "\n",
        "\n",
        "class Product:\n",
        "\n",
        "    def __init__(self, product_name, price):\n",
        "        self.product_id = self.get_id()\n",
        "        self.product_name = product_name\n",
        "        self.price = price\n",
        "\n",
        "    def __repr__(self):\n",
        "        return f\"Product(product_name='{self.product_name}', price={self.price})\"\n",
        "\n",
        "    @staticmethod\n",
        "    def get_id():\n",
        "        return str(uuid.uuid4().fields[-1])[:6]"
      ],
      "metadata": {
        "id": "8WFYdgA58e5C"
      },
      "execution_count": 14,
      "outputs": []
    },
    {
      "cell_type": "code",
      "source": [
        "import unittest\n",
        "from notebook import Note\n",
        "from products import Product\n",
        "\n",
        "class TestNote(unittest.TestCase):\n",
        "\n",
        "    def setUp(self):\n",
        "        self.note = Note('Simple note.')\n",
        "        \n",
        "    def test_note_has_content_instance_attr(self):\n",
        "        self.assertTrue(hasattr(self.note, 'content'), 'A Note instance does not have a content attribute.')"
      ],
      "metadata": {
        "id": "RateCO8B2pqn"
      },
      "execution_count": null,
      "outputs": []
    },
    {
      "cell_type": "code",
      "source": [
        "class TestNote(unittest.TestCase):\n",
        " \n",
        "    def test_note_has_category_class_attr(self):\n",
        "        msg = 'The Note class does not have a category attribute.'\n",
        "        self.assertTrue(hasattr(Note, 'category'), msg)"
      ],
      "metadata": {
        "id": "IG-DxPuv40R-"
      },
      "execution_count": 10,
      "outputs": []
    },
    {
      "cell_type": "code",
      "source": [
        "class TestNotebook(unittest.TestCase):\n",
        "\n",
        "    def setUp(self):\n",
        "        self.notebook = Notebook()\n",
        "        self.notebook.new_note('Big Data')\n",
        "        self.notebook.new_note('Data Science')\n",
        "        self.notebook.new_note('Machine Learning')\n",
        "\n",
        "    def test_notebook_search_method(self):\n",
        "        actual = self.notebook.search('data')\n",
        "        expected = ['Big Data', 'Data Science']\n",
        "        self.assertEqual(actual, expected)"
      ],
      "metadata": {
        "id": "GTuW-fI95Dws"
      },
      "execution_count": 12,
      "outputs": []
    },
    {
      "cell_type": "code",
      "source": [
        "class TestEmployee(unittest.TestCase):\n",
        "\n",
        "    def test_employee_has_email_property(self):\n",
        "        self.assertTrue(hasattr(Employee, 'email'))\n",
        "        self.assertIsInstance(Employee.email, property)"
      ],
      "metadata": {
        "id": "L3w-sIFs78AQ"
      },
      "execution_count": 13,
      "outputs": []
    },
    {
      "cell_type": "code",
      "source": [
        "class TestProduct(unittest.TestCase):\n",
        "\n",
        "    def test_product_has_get_id_function_attribute(self):\n",
        "        self.assertTrue(hasattr(Product), 'get_id')\n",
        "        self.assertTrue(callable(Product.get_id))"
      ],
      "metadata": {
        "id": "fhJSwBVf785T"
      },
      "execution_count": 15,
      "outputs": []
    },
    {
      "cell_type": "code",
      "source": [
        ""
      ],
      "metadata": {
        "id": "jM1tEA259R1d"
      },
      "execution_count": null,
      "outputs": []
    }
  ]
}