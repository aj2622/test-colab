{
  "nbformat": 4,
  "nbformat_minor": 0,
  "metadata": {
    "colab": {
      "name": "skippingTests.ipynb",
      "provenance": [],
      "collapsed_sections": [],
      "authorship_tag": "ABX9TyOx2ZuUJwalde0pnfEiCJOr",
      "include_colab_link": true
    },
    "kernelspec": {
      "name": "python3",
      "display_name": "Python 3"
    },
    "language_info": {
      "name": "python"
    }
  },
  "cells": [
    {
      "cell_type": "markdown",
      "metadata": {
        "id": "view-in-github",
        "colab_type": "text"
      },
      "source": [
        "<a href=\"https://colab.research.google.com/github/aj2622/test-colab/blob/main/skippingTests.ipynb\" target=\"_parent\"><img src=\"https://colab.research.google.com/assets/colab-badge.svg\" alt=\"Open In Colab\"/></a>"
      ]
    },
    {
      "cell_type": "code",
      "execution_count": 1,
      "metadata": {
        "id": "5Uir-8txfY9H"
      },
      "outputs": [],
      "source": [
        "import unittest\n",
        "\n",
        "\n",
        "class Container:\n",
        "    pass\n",
        "\n",
        "\n",
        "class TestContainer(unittest.TestCase):\n",
        "\n",
        "    def test_container(self):\n",
        "        self.assertIsInstance(Container, type)\n",
        "\n",
        "    @unittest.skip(\"The Cointainer class requires implementation\")\n",
        "    def test_has_code_attribute(self):\n",
        "        msg = 'The Container class does not have a code attribute.'\n",
        "        self.assertTrue(hasattr(Container, 'code'), msg)"
      ]
    },
    {
      "cell_type": "code",
      "source": [
        "from datetime import date\n",
        "import unittest\n",
        "\n",
        "\n",
        "class Container:\n",
        "\n",
        "    def __init__(self):\n",
        "        if date.today().day % 2 == 0:\n",
        "            self.code = 'XC-0'\n",
        "        else:\n",
        "            self.code = 'XC-1'\n",
        "\n",
        "\n",
        "class TestContainer(unittest.TestCase):\n",
        "\n",
        "    @unittest.skipIf(date.today().day % 2 != 0, \n",
        "                     'Skipping odd days.')\n",
        "    def test_skipping_odd_days(self):\n",
        "        c = Container()\n",
        "        self.assertTrue(c.code.endswith('0'), 'Invalid code attribute.')\n",
        "\n",
        "    @unittest.skipIf(date.today().day % 2 == 0, \n",
        "                     'Skipping odd days.')\n",
        "    def test_skipping_even_days(self):\n",
        "        c = Container()\n",
        "        self.assertTrue(c.code.endswith('1'), 'Invalid code attribute.')"
      ],
      "metadata": {
        "id": "IOrAUnHOgDX0"
      },
      "execution_count": 5,
      "outputs": []
    },
    {
      "cell_type": "code",
      "source": [
        "import sys\n",
        "import unittest\n",
        "\n",
        "\n",
        "class Container:\n",
        "\n",
        "    def __init__(self):\n",
        "        if sys.platform.startswith('win'):\n",
        "            self.code = 'XC-win'\n",
        "        else:\n",
        "            self.code = f'XC-{sys.platform}'\n",
        "\n",
        "\n",
        "class TestContainer(unittest.TestCase):\n",
        "\n",
        "    @unittest.skipUnless(sys.platform.startswith('win'), \n",
        "                         'Requires Windows')\n",
        "    def test_requires_windows(self):\n",
        "        c = Container()\n",
        "        self.assertEqual(c.code, 'XC-win')\n",
        "\n",
        "    @unittest.skipUnless(sys.platform.startswith('linux'), \n",
        "                         'Requires Linux')\n",
        "    def test_requires_linux(self):\n",
        "        c = Container()\n",
        "        self.assertEqual(c.code, 'XC-linux')"
      ],
      "metadata": {
        "id": "MWnc-wqbjXpl"
      },
      "execution_count": 8,
      "outputs": []
    },
    {
      "cell_type": "code",
      "source": [
        ""
      ],
      "metadata": {
        "id": "XQrAu-Guj1OG"
      },
      "execution_count": null,
      "outputs": []
    }
  ]
}