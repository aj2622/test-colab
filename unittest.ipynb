{
  "nbformat": 4,
  "nbformat_minor": 0,
  "metadata": {
    "colab": {
      "name": "unittest.ipynb",
      "provenance": [],
      "collapsed_sections": [],
      "authorship_tag": "ABX9TyNmzbZRTL8IB9TG9juy8W5g",
      "include_colab_link": true
    },
    "kernelspec": {
      "name": "python3",
      "display_name": "Python 3"
    },
    "language_info": {
      "name": "python"
    }
  },
  "cells": [
    {
      "cell_type": "markdown",
      "metadata": {
        "id": "view-in-github",
        "colab_type": "text"
      },
      "source": [
        "<a href=\"https://colab.research.google.com/github/aj2622/test-colab/blob/main/unittest.ipynb\" target=\"_parent\"><img src=\"https://colab.research.google.com/assets/colab-badge.svg\" alt=\"Open In Colab\"/></a>"
      ]
    },
    {
      "cell_type": "code",
      "execution_count": 1,
      "metadata": {
        "id": "2XErzPl-rpPC"
      },
      "outputs": [],
      "source": [
        "import unittest\n",
        "\n",
        "\n",
        "# enter your solution here\n",
        "class TestSplitMethod(unittest.TestCase):\n",
        " \n",
        "    def test_split_by_default(self):\n",
        "        self.assertEqual('Python Testing'.split(), ['Python', 'Testing'])\n",
        " \n",
        "    def test_split_by_comma(self):\n",
        "        actual = 'open,high,low,close'.split(',')\n",
        "        expected = ['open', 'high', 'low', 'close']\n",
        "        self.assertEqual(actual, expected)\n",
        " \n",
        "    def test_split_by_hash(self):\n",
        "        actual = 'summer#time#vibes'.split('#')\n",
        "        expected = ['summer', 'time', 'vibes']\n",
        "        self.assertEqual(actual, expected)"
      ]
    },
    {
      "cell_type": "code",
      "source": [
        "import unittest\n",
        "\n",
        "class TestJoinMethod(unittest.TestCase):\n",
        " \n",
        "    def test_join_with_space(self):\n",
        "        self.assertEqual(' '.join(['Python', '3.8']), 'Python 3.8')\n",
        " \n",
        "    def test_join_with_comma(self):\n",
        "        actual = ','.join(['open', 'high', 'low', 'close'])\n",
        "        expected = 'open,high,low,close'\n",
        "        self.assertEqual(actual, expected)\n",
        " \n",
        "    def test_join_with_new_line_char(self):\n",
        "        actual = '\\n'.join(['open', 'high', 'low', 'close'])\n",
        "        expected = 'open\\nhigh\\nlow\\nclose'\n",
        "        self.assertEqual(actual, expected)"
      ],
      "metadata": {
        "id": "RYxB1mhVtVm5"
      },
      "execution_count": 2,
      "outputs": []
    },
    {
      "cell_type": "code",
      "source": [
        "import unittest\n",
        "from collections import Counter\n",
        "\n",
        "\n",
        "class TestIsInstance(unittest.TestCase):\n",
        "\n",
        "    def test_case_1(self):\n",
        "        self.assertTrue(isinstance((), tuple))\n",
        "\n",
        "    def test_case_2(self):\n",
        "        self.assertTrue(isinstance([], list))\n",
        "\n",
        "    def test_case_3(self):\n",
        "        self.assertTrue(isinstance({}, dict))\n",
        "\n",
        "    def test_case_4(self):\n",
        "        cnt = Counter()\n",
        "        self.assertTrue(isinstance(cnt, Counter))\n",
        "\n",
        "    def test_case_5(self):\n",
        "        var1 = 4\n",
        "        self.assertTrue(isinstance(var1, int))\n",
        "\n",
        "    def test_case_6(self):\n",
        "        var2 = 4, \n",
        "        self.assertTrue(isinstance(var2, tuple))"
      ],
      "metadata": {
        "id": "z8sI0cOCD3Uo"
      },
      "execution_count": 8,
      "outputs": []
    },
    {
      "cell_type": "code",
      "source": [
        "import unittest\n",
        "\n",
        "class TestUpper(unittest.TestCase):\n",
        "\n",
        "    def test_upper(self):\n",
        "        self.assertEqual('summer'.upper(), 'SUMMER')\n",
        "\n",
        "    def test_is_upper(self):\n",
        "        self.assertTrue('SUMMER'.isupper())\n",
        "        self.assertFalse('summer'.isupper())\n"
      ],
      "metadata": {
        "id": "DQZuwLnmFZVh"
      },
      "execution_count": 10,
      "outputs": []
    },
    {
      "cell_type": "code",
      "source": [
        "import unittest\n",
        "\n",
        "class TestLower(unittest.TestCase):\n",
        "\n",
        "    def test_lower(self):\n",
        "        self.assertTrue('Joe.Smith@mail.com'.lower() == 'joe.smith@mail.com')\n",
        "\n",
        "    def test_is_lower(self):\n",
        "        self.assertTrue('joe.smith@mail.com'.islower())\n",
        "        self.assertFalse('Joe.Smith@mail.com'.islower())"
      ],
      "metadata": {
        "id": "Nuv-Yw7dG4N5"
      },
      "execution_count": 11,
      "outputs": []
    },
    {
      "cell_type": "code",
      "source": [
        "import unittest\n",
        "\n",
        "class TestStartswithMethod(unittest.TestCase):\n",
        " \n",
        "    def test_startswith_one_letter(self):\n",
        "        self.assertTrue('unittest'.startswith('u'))\n",
        "        self.assertFalse('unittest'.startswith('U'))\n",
        " \n",
        "    def test_startswith_four_letters(self):\n",
        "        self.assertTrue('http://www.e-smartdata.org/'.startswith('http'))\n",
        "        self.assertFalse('www.e-smartdata.org/'.startswith('http'))\n",
        " \n",
        " \n",
        "class TestEndswithMethod(unittest.TestCase):\n",
        " \n",
        "    def test_endswith_three_letter(self):\n",
        "        self.assertTrue('e-smartdata.org'.endswith('org'))\n",
        "        self.assertFalse('e-smartdata.org'.endswith('com'))"
      ],
      "metadata": {
        "id": "pX-Om5fgIA96"
      },
      "execution_count": 12,
      "outputs": []
    },
    {
      "cell_type": "code",
      "source": [
        "import unittest\n",
        "\n",
        "class TestLstripMethod(unittest.TestCase):\n",
        "\n",
        "    def test_lstrip_with_space(self):\n",
        "        self.assertTrue(' banana '.lstrip('. ') == 'banana ')\n",
        "    \n",
        "    def test_lstrip_with_comma(self):\n",
        "        self.assertTrue(',banana, '.lstrip(',') == 'banana, ')\n",
        "\n",
        "class TestStripMethod(unittest.TestCase):\n",
        " \n",
        "    def test_strip_with_space(self):\n",
        "        self.assertEqual('  price,volume  '.strip(), 'price,volume')\n",
        " \n",
        "    def test_strip_with_new_line_char(self):\n",
        "        self.assertEqual('\\nprice,volume\\n'.strip(), 'price,volume')\n",
        " \n",
        " \n",
        "class TestRstripMethod(unittest.TestCase):\n",
        " \n",
        "    def test_rstrip_with_space(self):\n",
        "        self.assertEqual('  price,volume  '.rstrip(), '  price,volume')\n",
        " \n",
        "    def test_rstrip_with_new_line_char(self):\n",
        "        self.assertEqual('\\nprice,volume\\n'.rstrip(), '\\nprice,volume')"
      ],
      "metadata": {
        "id": "uEdqmkIBJe5e"
      },
      "execution_count": 23,
      "outputs": []
    }
  ]
}