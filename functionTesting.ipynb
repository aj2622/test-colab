{
  "nbformat": 4,
  "nbformat_minor": 0,
  "metadata": {
    "colab": {
      "name": "functionTesting.ipynb",
      "provenance": [],
      "collapsed_sections": [],
      "authorship_tag": "ABX9TyN2SGfISefVqa3xetak76xf",
      "include_colab_link": true
    },
    "kernelspec": {
      "name": "python3",
      "display_name": "Python 3"
    },
    "language_info": {
      "name": "python"
    }
  },
  "cells": [
    {
      "cell_type": "markdown",
      "metadata": {
        "id": "view-in-github",
        "colab_type": "text"
      },
      "source": [
        "<a href=\"https://colab.research.google.com/github/aj2622/test-colab/blob/main/functionTesting.ipynb\" target=\"_parent\"><img src=\"https://colab.research.google.com/assets/colab-badge.svg\" alt=\"Open In Colab\"/></a>"
      ]
    },
    {
      "cell_type": "code",
      "execution_count": 7,
      "metadata": {
        "id": "s_EGfK9_wb2L"
      },
      "outputs": [],
      "source": [
        "import unittest\n",
        "import math\n",
        "\n",
        "\n",
        "def area(radius):\n",
        "    \"\"\"The function returns the area of the circle.\"\"\"\n",
        "\n",
        "    if not (isinstance(radius, (int, float))):\n",
        "        raise TypeError('The radius must be of type int or float.')\n",
        "\n",
        "    if not radius > 0:\n",
        "        raise ValueError('The radius must be positive.')\n",
        "\n",
        "    return math.pi * radius ** 2\n",
        "    \n",
        "\n",
        "# enter your solution here\n",
        "class TestArea(unittest.TestCase):\n",
        "    \n",
        "    def test_circle_area_with_radius_one(self):\n",
        "        self.assertAlmostEqual(3.14159, area(1), 5)\n",
        "    \n",
        "    def test_circle_area_with_radius_three(self):\n",
        "        self.assertAlmostEqual(28.27433, area(3), 5)\n",
        "\n",
        "    def test_area_incorrect_type_should_raise_type_error(self):\n",
        "        self.assertRaises(TypeError, area, '4')\n",
        "        self.assertRaises(TypeError, area, None)\n",
        "    \n",
        "    def test_area_incorrect_value_should_raise_value_error(self):\n",
        "        self.assertRaises(ValueError, area, 0)\n",
        "        self.assertRaises(ValueError, area, -3)"
      ]
    },
    {
      "cell_type": "code",
      "source": [
        "import unittest\n",
        "import math\n",
        "\n",
        "\n",
        "def perimeter(radius):\n",
        "    \"\"\"The function returns the length of the circle.\"\"\"\n",
        "\n",
        "    if not (isinstance(radius, (int, float))):\n",
        "        raise TypeError('The radius must be of type int or float.')\n",
        "\n",
        "    if not radius > 0:\n",
        "        raise ValueError('The radius must be positive.')\n",
        "\n",
        "    return 2 * math.pi * radius\n",
        "\n",
        "\n",
        "# enter your solution here\n",
        "\n",
        "class TestPerimeter(unittest.TestCase):\n",
        "\n",
        "    def test_perimeter_with_radius_one(self):\n",
        "        self.assertAlmostEqual(6.283, perimeter(1), 3)\n",
        "    \n",
        "    def test_perimeter_incorrect_value_should_raise_value_error(self):\n",
        "        self.assertRaises(ValueError, perimeter, 0)\n",
        "\n",
        "    def test_perimeter_incorrect_type_should_raise_type_error(self):\n",
        "        self.assertRaises(TypeError, perimeter, '0')\n",
        "    \n",
        "    def test_perimeter_area_with_radius_three(self):\n",
        "        self.assertAlmostEqual(18.8, perimeter(3), 1)"
      ],
      "metadata": {
        "id": "rUT-ge2s3Go1"
      },
      "execution_count": 8,
      "outputs": []
    },
    {
      "cell_type": "code",
      "source": [
        "import unittest\n",
        "from tax import calculate_tax\n",
        "\n",
        "\n",
        "# enter your solution here\n",
        "\n",
        "class TestCalculateTax(unittest.TestCase):\n",
        "\n",
        "    @classmethod\n",
        "    def setUpClass(cls):\n",
        "        cls.amount = 60000\n",
        "        cls.tax = 17\n",
        "    \n",
        "    @classmethod\n",
        "    def tearDownClass(cls) -> None:\n",
        "        del cls.amount\n",
        "        del cls.tax\n",
        "\n",
        "    def test_tax_with_eighteen_age(self):\n",
        "        self.assertEqual(calculate_tax(self.amount, 18, self.tax), 6000) \n",
        "\n",
        "    def test_tax_with_nineteen_age(self):\n",
        "        self.assertEqual(calculate_tax(self.amount, 19, self.tax), 10200) \n",
        "\n",
        "    def test_tax_with_sixty_five_age(self):\n",
        "        self.assertEqual(calculate_tax(self.amount, 65, self.tax), 10200) \n",
        "\n",
        "    def test_tax_with_sixty_six_age(self):\n",
        "        self.assertEqual(calculate_tax(self.amount, 66, self.tax), 9000) "
      ],
      "metadata": {
        "id": "Vhm0c2tP7U8i"
      },
      "execution_count": null,
      "outputs": []
    },
    {
      "cell_type": "code",
      "source": [
        "import unittest\n",
        "from tax import calculate_tax\n",
        " \n",
        " \n",
        "class TestCalculateTax(unittest.TestCase):\n",
        " \n",
        "    def test_tax_twenty_percent_with_eighteen_age(self):\n",
        "        self.assertEqual(calculate_tax(60000, 18, 20), 6000)\n",
        " \n",
        "    def test_tax_twenty_percent_with_nineteen_age(self):\n",
        "        self.assertEqual(calculate_tax(60000, 19, 20), 12000)\n",
        " \n",
        "    def test_tax_twenty_percent_with_sixty_five_age(self):\n",
        "        self.assertEqual(calculate_tax(60000, 65, 20), 12000)\n",
        " \n",
        "    def test_tax_twenty_percent_with_sixty_six_age(self):\n",
        "        self.assertEqual(calculate_tax(60000, 66, 20), 9000)"
      ],
      "metadata": {
        "id": "gcFp23kI7VwM"
      },
      "execution_count": null,
      "outputs": []
    },
    {
      "cell_type": "code",
      "source": [
        "import unittest\n",
        "from tax import income_tax\n",
        " \n",
        " \n",
        "class TestIncomeTax(unittest.TestCase):\n",
        " \n",
        "    def test_tax_below_threshold(self):\n",
        "        self.assertEqual(income_tax(60000), 10200)\n",
        " \n",
        "    def test_tax_equal_threshold(self):\n",
        "        self.assertEqual(income_tax(85528), 14539.76)\n",
        " \n",
        "    def test_tax_above_threshold(self):\n",
        "        self.assertEqual(income_tax(100000), 19170.8)"
      ],
      "metadata": {
        "id": "7hbElXwvBOzK"
      },
      "execution_count": null,
      "outputs": []
    }
  ]
}