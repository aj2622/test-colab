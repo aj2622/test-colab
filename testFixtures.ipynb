{
  "nbformat": 4,
  "nbformat_minor": 0,
  "metadata": {
    "colab": {
      "name": "testFixtures.ipynb",
      "provenance": [],
      "collapsed_sections": [],
      "authorship_tag": "ABX9TyMtNMEx0/XbC2hLEPHXQQ3i",
      "include_colab_link": true
    },
    "kernelspec": {
      "name": "python3",
      "display_name": "Python 3"
    },
    "language_info": {
      "name": "python"
    }
  },
  "cells": [
    {
      "cell_type": "markdown",
      "metadata": {
        "id": "view-in-github",
        "colab_type": "text"
      },
      "source": [
        "<a href=\"https://colab.research.google.com/github/aj2622/test-colab/blob/main/testFixtures.ipynb\" target=\"_parent\"><img src=\"https://colab.research.google.com/assets/colab-badge.svg\" alt=\"Open In Colab\"/></a>"
      ]
    },
    {
      "cell_type": "code",
      "execution_count": 1,
      "metadata": {
        "id": "cLez0O5MlbsP"
      },
      "outputs": [],
      "source": [
        "import sys\n",
        "import unittest\n",
        "\n",
        "\n",
        "class Container:\n",
        "\n",
        "    def __init__(self):\n",
        "        if sys.platform.startswith('win'):\n",
        "            self.code = 'XC-win'\n",
        "        else:\n",
        "            self.code = f'XC-{sys.platform}'\n",
        "\n",
        "\n",
        "class TestContainer(unittest.TestCase):\n",
        "\n",
        "    @unittest.skipUnless(sys.platform.startswith('win'), 'Requires Windows.')\n",
        "    def test_requires_windows(self):\n",
        "        self.assertEqual(container.code, 'XC-win')\n",
        "\n",
        "    @unittest.skipUnless(sys.platform.startswith('linux'), 'Requires Linux.')\n",
        "    def test_requires_linux(self):\n",
        "        self.assertEqual(container.code, 'XC-linux')\n",
        "\n",
        "\n",
        "# enter your solution here\n",
        "def setUpModule():\n",
        "    global container\n",
        "    container = Container()"
      ]
    },
    {
      "cell_type": "code",
      "source": [
        "import sys\n",
        "import unittest\n",
        "\n",
        "\n",
        "class Container:\n",
        "\n",
        "    def __init__(self):\n",
        "        if sys.platform.startswith('win'):\n",
        "            self.code = 'XC-win'\n",
        "        else:\n",
        "            self.code = f'XC-{sys.platform}'\n",
        "\n",
        "\n",
        "class TestContainer(unittest.TestCase):\n",
        "\n",
        "    @unittest.skipUnless(sys.platform.startswith('win'), 'Requires Windows.')\n",
        "    def test_requires_windows(self):\n",
        "        self.assertEqual(container.code, 'XC-win')\n",
        "\n",
        "    @unittest.skipUnless(sys.platform.startswith('linux'), 'Requires Linux.')\n",
        "    def test_requires_linux(self):\n",
        "        self.assertEqual(container.code, 'XC-linux')\n",
        "\n",
        "\n",
        "def setUpModule():\n",
        "    global container\n",
        "    container = Container()\n",
        "    \n",
        "# enter your solution here\n",
        "\n",
        "def tearDownModule():\n",
        "    global container\n",
        "    del container"
      ],
      "metadata": {
        "id": "geNiw1Kopj06"
      },
      "execution_count": 3,
      "outputs": []
    },
    {
      "cell_type": "code",
      "source": [
        "import sys\n",
        "import unittest\n",
        "\n",
        "\n",
        "class Container:\n",
        "\n",
        "    def __init__(self):\n",
        "        if sys.platform.startswith('win'):\n",
        "            self.code = 'XC-win'\n",
        "        else:\n",
        "            self.code = f'XC-{sys.platform}'\n",
        "\n",
        "\n",
        "class TestContainer(unittest.TestCase):\n",
        "    \n",
        "    # enter your solution here\n",
        "    @classmethod\n",
        "    def setUpClass(cls):\n",
        "        cls.container = Container()\n",
        "\n",
        "    @unittest.skipUnless(sys.platform.startswith('win'), 'Requires Windows.')\n",
        "    def test_requires_windows(self):\n",
        "        self.assertEqual(self.container.code, 'XC-win')    # kod do modyfikacji\n",
        "\n",
        "    @unittest.skipUnless(sys.platform.startswith('linux'), 'Requires Linux.')\n",
        "    def test_requires_linux(self):\n",
        "        self.assertEqual(self.container.code, 'XC-linux')    # kod do modyfikacji"
      ],
      "metadata": {
        "id": "WWEZ5fvmqYg-"
      },
      "execution_count": 4,
      "outputs": []
    },
    {
      "cell_type": "code",
      "source": [
        "import sys\n",
        "import unittest\n",
        "\n",
        "\n",
        "class Container:\n",
        "\n",
        "    def __init__(self):\n",
        "        if sys.platform.startswith('win'):\n",
        "            self.code = 'XC-win'\n",
        "        else:\n",
        "            self.code = f'XC-{sys.platform}'\n",
        "\n",
        "\n",
        "class TestContainer(unittest.TestCase):\n",
        "\n",
        "    @classmethod\n",
        "    def setUpClass(cls):\n",
        "        cls.container = Container()\n",
        "        \n",
        "    # enter your solution here\n",
        "\n",
        "    @classmethod\n",
        "    def tearDownClass(cls) -> None:\n",
        "        del cls.container\n",
        "\n",
        "    @unittest.skipUnless(sys.platform.startswith('win'), 'Requires Windows.')\n",
        "    def test_requires_windows(self):\n",
        "        self.assertEqual(self.container.code, 'XC-win')\n",
        "\n",
        "    @unittest.skipUnless(sys.platform.startswith('linux'), 'Requires Linux.')\n",
        "    def test_requires_linux(self):\n",
        "        self.assertEqual(self.container.code, 'XC-linux')"
      ],
      "metadata": {
        "id": "2S0UMoC5sWHl"
      },
      "execution_count": 5,
      "outputs": []
    },
    {
      "cell_type": "code",
      "source": [
        "import sys\n",
        "import unittest\n",
        "\n",
        "\n",
        "class Container:\n",
        "\n",
        "    def __init__(self, category):\n",
        "        self.category = category\n",
        "\n",
        "    def __repr__(self):\n",
        "        return f\"Container(category='{self.category}')\"\n",
        "\n",
        "\n",
        "class TestContainer(unittest.TestCase):\n",
        "    \n",
        "    # enter your solution here\n",
        "\n",
        "    def setUp(self):\n",
        "        self.container = Container('plastic')\n",
        "        \n",
        "    def test_init_method(self):\n",
        "        # container = Container('plastic')    # remove this\n",
        "        msg = 'The container instance does not have a category attribute.'\n",
        "        self.assertTrue(hasattr(self.container, 'category'), msg)    # modify this\n",
        "        self.assertEqual(self.container.category, 'plastic')    # modify this\n",
        "\n",
        "    def test_repr_method(self):\n",
        "        # container = Container('plastic')    # remove this\n",
        "        self.assertEqual(repr(self.container), \"Container(category='plastic')\")    # modify this"
      ],
      "metadata": {
        "id": "vVNf_3TpuvWo"
      },
      "execution_count": 6,
      "outputs": []
    },
    {
      "cell_type": "code",
      "source": [
        "import sys\n",
        "import unittest\n",
        "\n",
        "\n",
        "class Container:\n",
        "\n",
        "    def __init__(self, category):\n",
        "        self.category = category\n",
        "\n",
        "    def __repr__(self):\n",
        "        return f\"Container(category='{self.category}')\"\n",
        "\n",
        "\n",
        "class TestContainer(unittest.TestCase):\n",
        "\n",
        "    def setUp(self):\n",
        "        self.container = Container('plastic')\n",
        "        \n",
        "    # enter your solution here\n",
        "\n",
        "    def tearDown(self):\n",
        "        del self.container\n",
        "\n",
        "    def test_init_method(self):\n",
        "        msg = 'The container instance does not have a category attribute.'\n",
        "        self.assertTrue(hasattr(self.container, 'category'), msg)\n",
        "        self.assertEqual(self.container.category, 'plastic')\n",
        "\n",
        "    def test_repr_method(self):\n",
        "        self.assertEqual(repr(self.container), \"Container(category='plastic')\")"
      ],
      "metadata": {
        "id": "J3_7_EV3vQym"
      },
      "execution_count": 7,
      "outputs": []
    },
    {
      "cell_type": "code",
      "source": [
        ""
      ],
      "metadata": {
        "id": "yY29W0eswRI3"
      },
      "execution_count": null,
      "outputs": []
    }
  ]
}